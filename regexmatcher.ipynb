{
 "cells": [
  {
   "cell_type": "code",
   "execution_count": 94,
   "metadata": {},
   "outputs": [
    {
     "name": "stdout",
     "output_type": "stream",
     "text": [
      " --processing-mode={HCPStyleData| Controls whether the HCP acquisition and processing guidelines should be treated as requirements.  LegacyStyleData} \"HCPStyleData\" (the default) follows the processing steps described in Glasser et al. (2013)   and requires 'HCP-Style' data acquistion.   \"LegacyStyleData\" allows additional processing functionality and use of some acquisitions  that do not conform to 'HCP-Style' expectations.  In this script, it allows not having a high-resolution T2w image.  \n",
      "True\n"
     ]
    }
   ],
   "source": [
    "#CLEAN COMMANDS HERE\n",
    "import re \n",
    "optional = False\n",
    "\n",
    "command = r\"\"\"  [--processing-mode=(HCPStyleData|   Controls whether the HCP acquisition and processing guidelines should be treated as requirements.\n",
    "               LegacyStyleData)]      \"HCPStyleData\" (the default) follows the processing steps described in Glasser et al. (2013) \n",
    "                                         and requires 'HCP-Style' data acquistion. \n",
    "                                      \"LegacyStyleData\" allows additional processing functionality and use of some acquisitions\n",
    "                                         that do not conform to 'HCP-Style' expectations.\n",
    "                                         In this script, it allows not having a high-resolution T2w image.\n",
    "\n",
    "\"\"\"\n",
    "originalCommand = command\n",
    "command = re.sub(' +', ' ', command)\n",
    "command = re.sub('\\n', ' ', command)\n",
    "command = command.replace(\"=(\", \"={\")\n",
    "command = command.replace(\")]\", \"}]\")\n",
    "if \"[\" in command:\n",
    "    command=command.replace(\"[\", \"\")\n",
    "    command=command.replace(\"]\", \"\")\n",
    "    optional=True\n",
    "\n",
    "print(command)\n",
    "print(optional)"
   ]
  },
  {
   "cell_type": "code",
   "execution_count": 95,
   "metadata": {},
   "outputs": [
    {
     "name": "stdout",
     "output_type": "stream",
     "text": [
      "  [--processing-mode=(HCPStyleData|   Controls whether the HCP acquisition and processing guidelines should be treated as requirements.\n",
      "               LegacyStyleData)]      \"HCPStyleData\" (the default) follows the processing steps described in Glasser et al. (2013) \n",
      "                                         and requires 'HCP-Style' data acquistion. \n",
      "                                      \"LegacyStyleData\" allows additional processing functionality and use of some acquisitions\n",
      "                                         that do not conform to 'HCP-Style' expectations.\n",
      "                                         In this script, it allows not having a high-resolution T2w image.\n",
      "\n",
      "\n",
      "\n",
      "FINISHED COMMAND:\n",
      "opts_AddOptional '--processing-mode' 'processingMode' 'HCPStyleData_or__Controls_whether_the_HCP_acquisition_and_processing_guidelines_should_be_treated_as_requirements.__LegacyStyleData' \"\"HCPStyleData\" (the default) follows the processing steps described in Glasser et al. (2013)   and requires 'HCP-Style' data acquistion.   \"LegacyStyleData\" allows additional processing functionality and use of some acquisitions  that do not conform to 'HCP-Style' expectations.  In this script, it allows not having a high-resolution T2w image.  \" \n"
     ]
    }
   ],
   "source": [
    "#MATCH WITH REGEX AND GET OUTPUT COMMAND \n",
    "import re \n",
    "\n",
    "print(originalCommand)\n",
    "\n",
    "mo = \"\"\n",
    "matches = []\n",
    "\n",
    "if \"OR\" in command:\n",
    "    print(\"THIS HAS AN OR TAKE CARE AND MAKE SURE IT IS WHAT YOU WANT!\")\n",
    "    commandsplit = command.split('OR')\n",
    "    \n",
    "    for s in commandsplit:\n",
    "        commandGroups = re.compile(r'--(.*?)=<(.*?)>(.*)')\n",
    "\n",
    "        mo = commandGroups.search(s)\n",
    "        print(mo.groups())\n",
    "        matches.append(mo)\n",
    "\n",
    "# if \"(\" in command:\n",
    "#     command=command.replace(\"(\", \"{\")\n",
    "#     command=command.replace(\")\", \"}\")\n",
    "\n",
    "if \"{\" in command:\n",
    "    commandGroups = re.compile(r'--(.*?)={(.*?)} (.*)')\n",
    "    mo = commandGroups.search(command)\n",
    "\n",
    "else: \n",
    "    commandGroups = re.compile(r'--(.*?)=<(.*?)> (.*)')\n",
    "    mo = commandGroups.search(command)\n",
    "    \n",
    "if len(matches)>1:\n",
    "    mo = matches[1]\n",
    "    secondaryflag = \"\\'--\"+matches[0].group(1)+\"\\'\"\n",
    "    tag = matches[0].group(1)\n",
    "else: \n",
    "    secondaryflag = ''\n",
    "    tag = mo.group(2)\n",
    "\n",
    "helpinfo = mo.group(3)\n",
    "\n",
    "if \",\" in tag and \"x\" not in tag: \n",
    "    tag = tag.replace(\",\", \" or \")\n",
    "\n",
    "if \"or=\" in helpinfo:\n",
    "    helpGroups = re.compile(r'(.* ) or=({.*})(.*)')\n",
    "    helpmo = helpGroups.search(helpinfo)\n",
    "    otherArray = helpmo.group(2)\n",
    "    tag = \"{\" + tag + \"}\" + \" OR {otherArray}\".format(otherArray = otherArray)\n",
    "\n",
    "    helpinfo =  helpmo.group(1) + helpmo.group(3)\n",
    "    # print(helpinfo)\n",
    "\n",
    "if \"|\" in tag: \n",
    "    tag = tag.replace(\"|\", \" or \")\n",
    "\n",
    "command = mo.group(1)\n",
    "if \"-\" in mo.group(1):\n",
    "    split = mo.group(1).split('-')\n",
    "    variable = split[0]+split[1].capitalize()\n",
    "else:\n",
    "    variable = mo.group(1).capitalize()\n",
    "\n",
    "if \" \" in tag and \"OR\" not in tag: \n",
    "    tag = tag.replace(\" \", \"_\")\n",
    "\n",
    "if not optional:\n",
    "    reworkedString = \"opts_AddMandatory \\'--{command}\\' \\'{variable}\\' \\'{tag}\\' \\\"{helpinfo}\\\" {secondaryflag}\".format(command=command, variable=variable, tag=tag, helpinfo=helpinfo, secondaryflag=secondaryflag)    \n",
    "if optional: \n",
    "    if \"$\" in helpinfo:\n",
    "        print(\"THERE IS A DEFAULT CHECK WHAT IT IS AND CORRECT!\")\n",
    "        secondaryflag = \"{DEFAULT VALUE GOES HERE}\"\n",
    "    reworkedString = \"opts_AddOptional \\'--{command}\\' \\'{variable}\\' \\'{tag}\\' \\\"{helpinfo}\\\" {secondaryflag}\".format(command=command, variable=variable, tag=tag, helpinfo=helpinfo, secondaryflag=secondaryflag)\n",
    "\n",
    "print(\"\\nFINISHED COMMAND:\")\n",
    "print(reworkedString)\n"
   ]
  },
  {
   "cell_type": "code",
   "execution_count": null,
   "metadata": {},
   "outputs": [],
   "source": []
  }
 ],
 "metadata": {
  "kernelspec": {
   "display_name": "Python 3",
   "language": "python",
   "name": "python3"
  },
  "language_info": {
   "codemirror_mode": {
    "name": "ipython",
    "version": 3
   },
   "file_extension": ".py",
   "mimetype": "text/x-python",
   "name": "python",
   "nbconvert_exporter": "python",
   "pygments_lexer": "ipython3",
   "version": "3.10.5"
  },
  "orig_nbformat": 4,
  "vscode": {
   "interpreter": {
    "hash": "aee8b7b246df8f9039afb4144a1f6fd8d2ca17a180786b69acc140d282b71a49"
   }
  }
 },
 "nbformat": 4,
 "nbformat_minor": 2
}
